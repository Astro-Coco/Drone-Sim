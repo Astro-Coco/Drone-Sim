{
 "cells": [
  {
   "cell_type": "code",
   "execution_count": 47,
   "metadata": {},
   "outputs": [
    {
     "name": "stdout",
     "output_type": "stream",
     "text": [
      "[-1.00000000e+00  0.00000000e+00  2.16276649e-15]\n"
     ]
    }
   ],
   "source": [
    "import numpy as np\n",
    "\n",
    "def quaternion_multiply(q1, q2):\n",
    "    w1, x1, y1, z1 = q1\n",
    "    w2, x2, y2, z2 = q2\n",
    "    return np.array([\n",
    "        w1*w2 - x1*x2 - y1*y2 - z1*z2,\n",
    "        w1*x2 + x1*w2 + y1*z2 - z1*y2,\n",
    "        w1*y2 - x1*z2 + y1*w2 + z1*x2,\n",
    "        w1*z2 + x1*y2 - y1*x2 + z1*w2\n",
    "    ])\n",
    "        \n",
    "\n",
    "def normalize_quaternion(q):\n",
    "    norm = np.linalg.norm(q)\n",
    "    if norm == 0:\n",
    "        return q\n",
    "    return q / norm\n",
    "\n",
    "\n",
    "def update_orientation(q, omega, dt):\n",
    "    omega = rotate_vector(omega,q)\n",
    "    theta = np.linalg.norm(omega)\n",
    "    sin_half_theta = np.sin(theta*dt/2)\n",
    "    dq = np.array([np.cos(theta*dt/2), sin_half_theta*omega[0]/theta, sin_half_theta*omega[1]/theta, sin_half_theta*omega[2]/theta])\n",
    "    dq = normalize_quaternion(dq)\n",
    "    q = quaternion_multiply(dq,q)\n",
    "    q = normalize_quaternion(q)\n",
    "    return dq, q\n",
    "\n",
    "        \n",
    "def rotate_vector(v, q):\n",
    "    v_quat = np.array([0] + list(v))  # Create a quaternion with zero scalar part\n",
    "    q_conj = np.array([q[0], -q[1], -q[2], -q[3]])  # Conjugate of q\n",
    "    v_rotated_quat = quaternion_multiply(quaternion_multiply(q, v_quat), (q_conj))\n",
    "    return v_rotated_quat[1:]  # Extract the vector part\n",
    "\n",
    "\n",
    "i = 0\n",
    "size = 1000\n",
    "dt = 1/size\n",
    "n = np.array([0,0,1])\n",
    "\n",
    "for i in range(size):\n",
    "    angular_speed = np.array([0,np.pi/2,0])\n",
    "    if i == 0:\n",
    "        q = np.array([0,0,0,1])\n",
    "    i += 1\n",
    "    dq, q = update_orientation(q, angular_speed, dt)\n",
    "    n = normalize_quaternion(rotate_vector(n, dq))\n",
    "\n",
    "\n",
    "print(n)\n",
    "\n",
    "\n",
    "\n"
   ]
  },
  {
   "cell_type": "code",
   "execution_count": 43,
   "metadata": {},
   "outputs": [
    {
     "name": "stdout",
     "output_type": "stream",
     "text": [
      "[-1.00000000e+00  2.23871866e-15  7.83034738e-14]\n",
      "[-7.65448902e-14 -3.38964640e-14 -1.00000000e+00]\n",
      "[-5.86024712e-14  7.07106781e-01 -7.07106781e-01]\n"
     ]
    }
   ],
   "source": [
    "print('....................................................................................')\n",
    "i = 0\n",
    "for i in range(size):\n",
    "    angular_speed = np.array([0,np.pi/2,0])\n",
    "    i += 1\n",
    "    dq, q = update_orientation(q, angular_speed, dt)\n",
    "    n = normalize_quaternion(rotate_vector(n, dq))\n",
    "print(n)\n",
    "i = 0\n",
    "for i in range(size):\n",
    "    angular_speed = np.array([np.pi,0,0])\n",
    "    i += 1\n",
    "    dq, q = update_orientation(q, angular_speed, dt)\n",
    "    n = normalize_quaternion(rotate_vector(n, dq))\n",
    "print(n)\n",
    "\n",
    "for i in range(size):\n",
    "    angular_speed = np.array([0, np.pi,0])\n",
    "    i += 1\n",
    "    dq, q = update_orientation(q, angular_speed, dt)\n",
    "    n = normalize_quaternion(rotate_vector(n, dq))\n",
    "print(n)\n",
    "\n",
    "i = 0\n",
    "for i in range(size):\n",
    "    angular_speed = np.array([0,0,np.pi])\n",
    "    i += 1\n",
    "    dq, q = update_orientation(q, angular_speed, dt)\n",
    "    n = normalize_quaternion(rotate_vector(n, dq))\n",
    "print(n)\n",
    "\n",
    "i = 0\n",
    "for i in range(size):\n",
    "    angular_speed = np.array([np.pi/2,0,0])\n",
    "    i += 1\n",
    "    dq, q = update_orientation(q, angular_speed, dt)\n",
    "    n = normalize_quaternion(rotate_vector(n, dq))\n",
    "print(n)\n",
    "i = 0\n",
    "for i in range(size):\n",
    "    angular_speed = np.array([0,-np.pi/4,0])\n",
    "    i += 1\n",
    "    dq, q = update_orientation(q, angular_speed, dt)\n",
    "    n = normalize_quaternion(rotate_vector(n, dq))\n",
    "print(n)"
   ]
  },
  {
   "cell_type": "code",
   "execution_count": null,
   "metadata": {},
   "outputs": [],
   "source": []
  }
 ],
 "metadata": {
  "kernelspec": {
   "display_name": "Python 3",
   "language": "python",
   "name": "python3"
  },
  "language_info": {
   "codemirror_mode": {
    "name": "ipython",
    "version": 3
   },
   "file_extension": ".py",
   "mimetype": "text/x-python",
   "name": "python",
   "nbconvert_exporter": "python",
   "pygments_lexer": "ipython3",
   "version": "3.11.9"
  }
 },
 "nbformat": 4,
 "nbformat_minor": 2
}
